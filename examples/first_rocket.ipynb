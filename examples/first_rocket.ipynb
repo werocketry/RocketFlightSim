{
 "cells": [
  {
   "cell_type": "markdown",
   "metadata": {},
   "source": [
    "# First Rocket\n",
    "\n",
    "A simple simulation of a rocket's full flight, from ignition to landing."
   ]
  },
  {
   "cell_type": "markdown",
   "metadata": {},
   "source": [
    "## 1. Define a Rocket"
   ]
  },
  {
   "cell_type": "code",
   "execution_count": null,
   "metadata": {},
   "outputs": [],
   "source": [
    "# import RFS class modules\n",
    "from rocketflightsim.classes.motor import Motor\n",
    "from rocketflightsim.classes.rocket import Rocket\n",
    "from rocketflightsim.classes.environment import Environment\n",
    "from rocketflightsim.classes.launchpad import Launchpad\n",
    "from rocketflightsim.classes.parachute import Parachute"
   ]
  },
  {
   "cell_type": "markdown",
   "metadata": {},
   "source": [
    "sim with the combined function or step by step?"
   ]
  }
 ],
 "metadata": {
  "language_info": {
   "name": "python"
  }
 },
 "nbformat": 4,
 "nbformat_minor": 2
}
